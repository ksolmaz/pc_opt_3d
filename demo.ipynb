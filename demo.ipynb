{
  "nbformat": 4,
  "nbformat_minor": 0,
  "metadata": {
    "colab": {
      "name": "demo.ipynb",
      "provenance": [],
      "collapsed_sections": []
    },
    "kernelspec": {
      "name": "python3",
      "display_name": "Python 3"
    },
    "language_info": {
      "name": "python"
    },
    "accelerator": "GPU"
  },
  "cells": [
    {
      "cell_type": "code",
      "source": [
        "!pip install open3d\n",
        "!pip install imagecodecs\n",
        "!pip install pytorch3d -f https://dl.fbaipublicfiles.com/pytorch3d/packaging/wheels/py37_cu111_pyt1100/download.html\n",
        "!pip install torch==1.10.0+cu111\n",
        "!pip install git+https://github.com/nathanrooy/differential-evolution-optimization"
      ],
      "metadata": {
        "id": "PLKbMbEUTEMO"
      },
      "execution_count": null,
      "outputs": []
    },
    {
      "cell_type": "code",
      "source": [
        "!git clone https://github.com/ksolmaz/pc_opt_3d/"
      ],
      "metadata": {
        "id": "SJ5Bz3QYTE5u"
      },
      "execution_count": null,
      "outputs": []
    },
    {
      "cell_type": "code",
      "source": [
        "%cd /pc_opt_3d/\n",
        "from point_cloud import projection_matrix_to_RT,pc_extract,world_coor,six_param_opt\n",
        "from renderer import img_for_loss,render_settings\n",
        "from diffevo import de_simple\n",
        "import torch\n",
        "import numpy as np\n",
        "from pytorch3d.transforms import matrix_to_quaternion,quaternion_to_matrix\n",
        "from pytorch3d.structures import Pointclouds"
      ],
      "metadata": {
        "id": "8GGaVz5oc-tu"
      },
      "execution_count": null,
      "outputs": []
    },
    {
      "cell_type": "code",
      "source": [
        "img_color = \"/other_files/frame-000000.color.png\"\n",
        "img_depth = '/other_files/frame-000000_depth.tiff'\n",
        "ref_img   = \"/other_files/frame-000150.color.png\""
      ],
      "metadata": {
        "id": "zVwdx9NbYRsj"
      },
      "execution_count": 24,
      "outputs": []
    },
    {
      "cell_type": "code",
      "source": [
        "verts,rgb = pc_extract(img_color,img_depth)\n",
        "new_world_coor = world_coor(img_color,img_depth)\n",
        "ref_img = img_for_loss(ref_img)\n"
      ],
      "metadata": {
        "id": "FhXCJT9WZhBe"
      },
      "execution_count": 25,
      "outputs": []
    },
    {
      "cell_type": "code",
      "source": [
        "def de_optim(x):\n",
        "        point_cloud = six_param_opt(x,new_world_coor,rgb)\n",
        "        images = render_settings(point_cloud)\n",
        "        no_zero_points = images[0, ..., :3].float().detach().squeeze().cpu().numpy() != 0\n",
        "        zeros_np = images[0, ..., :3].float().detach().cpu().numpy()\n",
        "\n",
        "        if np.count_nonzero(zeros_np == 0) < 300000:\n",
        "          colored_points_indexes = np.where(images[0, ..., :3].float().detach().squeeze().cpu().numpy() != 0)\n",
        "          colored_points_val = int((np.asarray(np.where(images[0, ..., :3].float().detach().squeeze().cpu().numpy() != 0))[1]).shape[0])\n",
        "          input = images[0, ..., :3][colored_points_indexes]\n",
        "          target = torch.from_numpy(ref_img)[colored_points_indexes].cuda()\n",
        "          loss = torch.sum((input - target) ** 2)/colored_points_val\n",
        "        else:\n",
        "          input = torch.ones(480,640,3).cuda()\n",
        "          target = torch.zeros(480,640,3).cuda()\n",
        "          colored_points_val = 921600\n",
        "          loss = torch.sum((input - target) ** 2)/colored_points_val\n",
        "          \n",
        "        return loss.detach().cpu().numpy()"
      ],
      "metadata": {
        "id": "_fsnDnZ6o78O"
      },
      "execution_count": 26,
      "outputs": []
    },
    {
      "cell_type": "code",
      "source": [
        "bounds = [(-1,1),(-1,1),(-1,1),(-1.3,1.3),(-1.3,1.3),(-1.3,1.3)]            \n",
        "popsize = 5                        \n",
        "mutate = 0.4                        \n",
        "recombination = 0.8                \n",
        "maxiter = 5  "
      ],
      "metadata": {
        "id": "3Vu7lNknkw9y"
      },
      "execution_count": 29,
      "outputs": []
    },
    {
      "cell_type": "code",
      "source": [
        "de_simple.minimize(de_optim, bounds, popsize, mutate, recombination, maxiter)"
      ],
      "metadata": {
        "id": "PnTNUFKooPEs"
      },
      "execution_count": null,
      "outputs": []
    }
  ]
}
